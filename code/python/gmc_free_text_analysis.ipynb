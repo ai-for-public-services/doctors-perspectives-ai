{
 "cells": [
  {
   "cell_type": "markdown",
   "id": "6a290111",
   "metadata": {},
   "source": [
    "# Aggregating Preferences\n",
    "\n",
    "- Date generated: 2end Feb - 2024\n",
    "- Author: Saba Esnaashari - John Francis\n",
    "- Purpose: Functions and codes for theme extraction from GMC data\n",
    "\n",
    "#### Aggregating Preferences Pipeline\n",
    "1. Identify a question to analyze\n",
    "2. Split the free text question by optimistic/pessimistic\n",
    "3. For each of the multiple choice answers, run a cluster analysis to aggregate Rs into groups with similar arguments; identifying central Rs for direct quotes\n",
    "4. For each of the multiple choice answers, extract the main reasons Rs have for holding that position \n",
    "5. For each of the multiple choice answers, quantify the support for each argument\n",
    "6. For each of the multiple choice answers, pull out outliers to investigate for unique arguments"
   ]
  },
  {
   "cell_type": "markdown",
   "id": "a2390fc4",
   "metadata": {},
   "source": [
    "### Load In packages"
   ]
  },
  {
   "cell_type": "code",
   "execution_count": 1,
   "id": "2e129cbf",
   "metadata": {},
   "outputs": [],
   "source": [
    "# Quantized LLama\n",
    "from ctransformers import AutoModelForCausalLM,AutoTokenizer\n",
    "\n",
    "# Embedding Model\n",
    "from sentence_transformers import SentenceTransformer, util\n",
    "from sentence_transformers.util import cos_sim\n",
    "\n",
    "# Kmeans and PCA \n",
    "from sklearn.cluster import KMeans\n",
    "from sklearn.metrics import silhouette_samples, silhouette_score\n",
    "from sklearn.preprocessing import StandardScaler\n",
    "from sklearn.decomposition import PCA\n",
    "\n",
    "# Plotting\n",
    "import matplotlib.pyplot as plt\n",
    "\n",
    "# NLP utilities\n",
    "import re\n",
    "import nltk\n",
    "from nltk.corpus import stopwords\n",
    "from nltk.util import ngrams \n",
    "import string\n",
    "\n",
    "# Python dataframes and arrays\n",
    "import pandas as pd\n",
    "import numpy as np\n",
    "\n",
    "# Misc\n",
    "from collections import Counter"
   ]
  },
  {
   "cell_type": "markdown",
   "id": "28522610",
   "metadata": {},
   "source": [
    "### Load in Data \n",
    "#### Remove NaNs from Scenario-one"
   ]
  },
  {
   "cell_type": "code",
   "execution_count": 5,
   "id": "17685e2f",
   "metadata": {},
   "outputs": [
    {
     "name": "stdout",
     "output_type": "stream",
     "text": [
      "number of NaNs in scenario one: 4\n",
      "Number of entries after NaNs removal 925\n"
     ]
    }
   ],
   "source": [
    "#GMC data\n",
    "questions = pd.read_csv(\"../Data/cleaned_analytic_file_for_viz_090224.csv\")\n",
    "questions.head()\n",
    "\n",
    "#Remove NaNs. \n",
    "mask = questions.scenario_one.isnull()\n",
    "print(\"number of NaNs in scenario one:\",questions.scenario_one.isnull().sum())\n",
    "questions = questions.dropna(subset=['scenario_one'])\n",
    "print(\"Number of entries after NaNs removal\", len(questions))\n",
    "\n",
    "#Read Data\n",
    "aiuse_optimism = questions[\"aiuse_optimism_aggregated\"].tolist() # multiple choice q\n",
    "scenario_one = questions[\"scenario_one\"].tolist() # free text q\n"
   ]
  },
  {
   "cell_type": "code",
   "execution_count": 4,
   "id": "7e29b6b6",
   "metadata": {},
   "outputs": [
    {
     "data": {
      "text/html": [
       "<div>\n",
       "<style scoped>\n",
       "    .dataframe tbody tr th:only-of-type {\n",
       "        vertical-align: middle;\n",
       "    }\n",
       "\n",
       "    .dataframe tbody tr th {\n",
       "        vertical-align: top;\n",
       "    }\n",
       "\n",
       "    .dataframe thead th {\n",
       "        text-align: right;\n",
       "    }\n",
       "</style>\n",
       "<table border=\"1\" class=\"dataframe\">\n",
       "  <thead>\n",
       "    <tr style=\"text-align: right;\">\n",
       "      <th></th>\n",
       "      <th>gender</th>\n",
       "      <th>pmq_aggregated</th>\n",
       "      <th>reg_status_aggregated</th>\n",
       "      <th>country_of_practice</th>\n",
       "      <th>medical_area_aggregated</th>\n",
       "      <th>inside_uk_years</th>\n",
       "      <th>inside_uk_years_aggregated</th>\n",
       "      <th>patient_facing_role</th>\n",
       "      <th>age</th>\n",
       "      <th>age_aggregated</th>\n",
       "      <th>aiuse_optimism_aggregated</th>\n",
       "      <th>used_gen_ai</th>\n",
       "      <th>used_ddss_ai</th>\n",
       "      <th>used_any_ai</th>\n",
       "      <th>scenario_one</th>\n",
       "      <th>further_info</th>\n",
       "      <th>details_ai_system</th>\n",
       "    </tr>\n",
       "  </thead>\n",
       "  <tbody>\n",
       "    <tr>\n",
       "      <th>924</th>\n",
       "      <td>Woman</td>\n",
       "      <td>non-UK</td>\n",
       "      <td>Trainee</td>\n",
       "      <td>England</td>\n",
       "      <td>Psychiatry</td>\n",
       "      <td>Less than 5 years</td>\n",
       "      <td>Less than 5 years (agg)</td>\n",
       "      <td>Patient facing</td>\n",
       "      <td>Under 30</td>\n",
       "      <td>Under 40</td>\n",
       "      <td>Neutral</td>\n",
       "      <td>0</td>\n",
       "      <td>0</td>\n",
       "      <td>0</td>\n",
       "      <td>For a clinical condition, i will refer to the ...</td>\n",
       "      <td>No</td>\n",
       "      <td>NaN</td>\n",
       "    </tr>\n",
       "    <tr>\n",
       "      <th>925</th>\n",
       "      <td>Woman</td>\n",
       "      <td>UK</td>\n",
       "      <td>GP</td>\n",
       "      <td>England</td>\n",
       "      <td>General Practice</td>\n",
       "      <td>15-24 years</td>\n",
       "      <td>5-24 years</td>\n",
       "      <td>Patient facing</td>\n",
       "      <td>40-49</td>\n",
       "      <td>40-49 (agg)</td>\n",
       "      <td>NaN</td>\n",
       "      <td>0</td>\n",
       "      <td>0</td>\n",
       "      <td>0</td>\n",
       "      <td>I would discuss this with a colleague or boss,...</td>\n",
       "      <td>no</td>\n",
       "      <td>NaN</td>\n",
       "    </tr>\n",
       "    <tr>\n",
       "      <th>926</th>\n",
       "      <td>NaN</td>\n",
       "      <td>non-UK</td>\n",
       "      <td>Specialist</td>\n",
       "      <td>England</td>\n",
       "      <td>NaN</td>\n",
       "      <td>25-34 years</td>\n",
       "      <td>25+ years</td>\n",
       "      <td>Patient facing</td>\n",
       "      <td>Prefer not to say</td>\n",
       "      <td>NaN</td>\n",
       "      <td>Optimistic</td>\n",
       "      <td>0</td>\n",
       "      <td>0</td>\n",
       "      <td>0</td>\n",
       "      <td>Document the disparity. Seek consensus from a ...</td>\n",
       "      <td>Some colleagues use the auto dictate function ...</td>\n",
       "      <td>NaN</td>\n",
       "    </tr>\n",
       "    <tr>\n",
       "      <th>927</th>\n",
       "      <td>Man</td>\n",
       "      <td>UK</td>\n",
       "      <td>Specialist</td>\n",
       "      <td>England</td>\n",
       "      <td>Radiology</td>\n",
       "      <td>15-24 years</td>\n",
       "      <td>5-24 years</td>\n",
       "      <td>Patient facing</td>\n",
       "      <td>40-49</td>\n",
       "      <td>40-49 (agg)</td>\n",
       "      <td>Pessimistic</td>\n",
       "      <td>0</td>\n",
       "      <td>0</td>\n",
       "      <td>0</td>\n",
       "      <td>i would ignore the system and report the diffe...</td>\n",
       "      <td>no</td>\n",
       "      <td>NaN</td>\n",
       "    </tr>\n",
       "    <tr>\n",
       "      <th>928</th>\n",
       "      <td>Man</td>\n",
       "      <td>non-UK</td>\n",
       "      <td>Locally employed doctor (LED)</td>\n",
       "      <td>England</td>\n",
       "      <td>Surgery</td>\n",
       "      <td>Less than 5 years</td>\n",
       "      <td>Less than 5 years (agg)</td>\n",
       "      <td>Patient facing</td>\n",
       "      <td>Under 30</td>\n",
       "      <td>Under 40</td>\n",
       "      <td>Optimistic</td>\n",
       "      <td>0</td>\n",
       "      <td>1</td>\n",
       "      <td>1</td>\n",
       "      <td>I would double-check my diagnosis/recommendati...</td>\n",
       "      <td>NaN</td>\n",
       "      <td>NELA calculations</td>\n",
       "    </tr>\n",
       "  </tbody>\n",
       "</table>\n",
       "</div>"
      ],
      "text/plain": [
       "    gender pmq_aggregated          reg_status_aggregated country_of_practice  \\\n",
       "924  Woman         non-UK                        Trainee             England   \n",
       "925  Woman             UK                             GP             England   \n",
       "926    NaN         non-UK                     Specialist             England   \n",
       "927    Man             UK                     Specialist             England   \n",
       "928    Man         non-UK  Locally employed doctor (LED)             England   \n",
       "\n",
       "    medical_area_aggregated    inside_uk_years inside_uk_years_aggregated  \\\n",
       "924              Psychiatry  Less than 5 years    Less than 5 years (agg)   \n",
       "925        General Practice        15-24 years                 5-24 years   \n",
       "926                     NaN        25-34 years                  25+ years   \n",
       "927               Radiology        15-24 years                 5-24 years   \n",
       "928                 Surgery  Less than 5 years    Less than 5 years (agg)   \n",
       "\n",
       "    patient_facing_role                age age_aggregated  \\\n",
       "924      Patient facing           Under 30       Under 40   \n",
       "925      Patient facing              40-49    40-49 (agg)   \n",
       "926      Patient facing  Prefer not to say            NaN   \n",
       "927      Patient facing              40-49    40-49 (agg)   \n",
       "928      Patient facing           Under 30       Under 40   \n",
       "\n",
       "    aiuse_optimism_aggregated  used_gen_ai  used_ddss_ai  used_any_ai  \\\n",
       "924                   Neutral            0             0            0   \n",
       "925                       NaN            0             0            0   \n",
       "926                Optimistic            0             0            0   \n",
       "927               Pessimistic            0             0            0   \n",
       "928                Optimistic            0             1            1   \n",
       "\n",
       "                                          scenario_one  \\\n",
       "924  For a clinical condition, i will refer to the ...   \n",
       "925  I would discuss this with a colleague or boss,...   \n",
       "926  Document the disparity. Seek consensus from a ...   \n",
       "927  i would ignore the system and report the diffe...   \n",
       "928  I would double-check my diagnosis/recommendati...   \n",
       "\n",
       "                                          further_info  details_ai_system  \n",
       "924                                                 No                NaN  \n",
       "925                                                 no                NaN  \n",
       "926  Some colleagues use the auto dictate function ...                NaN  \n",
       "927                                                 no                NaN  \n",
       "928                                                NaN  NELA calculations  "
      ]
     },
     "execution_count": 4,
     "metadata": {},
     "output_type": "execute_result"
    }
   ],
   "source": [
    "questions.tail()"
   ]
  },
  {
   "cell_type": "markdown",
   "id": "b9381310",
   "metadata": {},
   "source": []
  },
  {
   "cell_type": "markdown",
   "id": "9f90936f",
   "metadata": {},
   "source": [
    "### Split the free text question by multiple choice categories"
   ]
  },
  {
   "cell_type": "code",
   "execution_count": 195,
   "id": "7352c948",
   "metadata": {},
   "outputs": [
    {
     "name": "stdout",
     "output_type": "stream",
     "text": [
      "Number of people who didn't know: 104\n",
      "Percent of people who don't know: 11.24 %\n"
     ]
    },
    {
     "data": {
      "image/png": "[encoded data removed]",
      "text/plain": [
       "<Figure size 640x480 with 1 Axes>"
      ]
     },
     "metadata": {},
     "output_type": "display_data"
    }
   ],
   "source": [
    "not_know_lists = [\"I dont know\",\"I don't know\", \"not know\", \"not sure\"]\n",
    "questions['not_know'] = questions['scenario_one'].apply(lambda x: 1 if any(ss in x for ss in not_know_lists) else 0)\n",
    "print(\"Number of people who didn't know:\", sum(questions['not_know']))\n",
    "print(\"Percent of people who don't know:\",round(sum(questions['not_know'])/len(questions)*100,2),\"%\")\n",
    "\n",
    "categories, counts = np.unique(aiuse_optimism, return_counts=True)\n",
    "plt.pie(counts, labels=categories, autopct='%1.1f%%', startangle=90)\n",
    "plt.title('aiuse_optimism')\n",
    "plt.show()"
   ]
  },
  {
   "cell_type": "code",
   "execution_count": 196,
   "id": "79bf0e39-b1e5-4db0-8db9-2e6948192f97",
   "metadata": {},
   "outputs": [
    {
     "name": "stdout",
     "output_type": "stream",
     "text": [
      "Optimism grouped by gender:\n",
      "aiuse_optimism_aggregated    Neutral  Optimistic  Pessimistic\n",
      "gender                                                       \n",
      "Man                        17.122040   62.112933    20.765027\n",
      "Woman                      26.934097   45.845272    27.220630\n",
      "\n",
      "Not know responses grouped by gender:\n",
      "not_know          0          1\n",
      "gender                        \n",
      "Man       90.794224   9.205776\n",
      "Woman     85.515320  14.484680\n"
     ]
    }
   ],
   "source": [
    "## Optimism by gender\n",
    "print(\"Optimism grouped by gender:\")\n",
    "print(questions.groupby('gender')['aiuse_optimism_aggregated'].value_counts(normalize=True).unstack()*100)\n",
    "print(\"\\nNot know responses grouped by gender:\")\n",
    "print(questions.groupby('gender')['not_know'].value_counts(normalize=True).unstack()*100)"
   ]
  },
  {
   "cell_type": "code",
   "execution_count": 197,
   "id": "ee59b45b",
   "metadata": {},
   "outputs": [
    {
     "name": "stdout",
     "output_type": "stream",
     "text": [
      "Not know percentage in each of the optimism category\n"
     ]
    },
    {
     "data": {
      "text/html": [
       "<div>\n",
       "<style scoped>\n",
       "    .dataframe tbody tr th:only-of-type {\n",
       "        vertical-align: middle;\n",
       "    }\n",
       "\n",
       "    .dataframe tbody tr th {\n",
       "        vertical-align: top;\n",
       "    }\n",
       "\n",
       "    .dataframe thead th {\n",
       "        text-align: right;\n",
       "    }\n",
       "</style>\n",
       "<table border=\"1\" class=\"dataframe\">\n",
       "  <thead>\n",
       "    <tr style=\"text-align: right;\">\n",
       "      <th>not_know</th>\n",
       "      <th>0</th>\n",
       "      <th>1</th>\n",
       "    </tr>\n",
       "    <tr>\n",
       "      <th>aiuse_optimism_aggregated</th>\n",
       "      <th></th>\n",
       "      <th></th>\n",
       "    </tr>\n",
       "  </thead>\n",
       "  <tbody>\n",
       "    <tr>\n",
       "      <th>Neutral</th>\n",
       "      <td>77.486911</td>\n",
       "      <td>22.513089</td>\n",
       "    </tr>\n",
       "    <tr>\n",
       "      <th>Optimistic</th>\n",
       "      <td>93.478261</td>\n",
       "      <td>6.521739</td>\n",
       "    </tr>\n",
       "    <tr>\n",
       "      <th>Pessimistic</th>\n",
       "      <td>87.793427</td>\n",
       "      <td>12.206573</td>\n",
       "    </tr>\n",
       "  </tbody>\n",
       "</table>\n",
       "</div>"
      ],
      "text/plain": [
       "not_know                           0          1\n",
       "aiuse_optimism_aggregated                      \n",
       "Neutral                    77.486911  22.513089\n",
       "Optimistic                 93.478261   6.521739\n",
       "Pessimistic                87.793427  12.206573"
      ]
     },
     "execution_count": 197,
     "metadata": {},
     "output_type": "execute_result"
    }
   ],
   "source": [
    "print(\"Not know percentage in each of the optimism category\")\n",
    "questions.groupby('aiuse_optimism_aggregated')['not_know'].value_counts(normalize=True).unstack()*100"
   ]
  },
  {
   "cell_type": "markdown",
   "id": "cc375a73",
   "metadata": {},
   "source": [
    "## Sentiment Analysis for Scenario One"
   ]
  },
  {
   "cell_type": "code",
   "execution_count": 198,
   "id": "b61b3bb8",
   "metadata": {},
   "outputs": [
    {
     "name": "stdout",
     "output_type": "stream",
     "text": [
      "Neutral          434\n",
      "Positive view    274\n",
      "Negative view    217\n",
      "Name: count, dtype: int64\n"
     ]
    },
    {
     "data": {
      "image/png": "[encoded data removed]",
      "text/plain": [
       "<Figure size 640x480 with 1 Axes>"
      ]
     },
     "metadata": {},
     "output_type": "display_data"
    }
   ],
   "source": [
    "from nltk.sentiment.vader import SentimentIntensityAnalyzer\n",
    "\n",
    "# Download the VADER lexicon (if not already downloaded)\n",
    "\n",
    "\n",
    "# Initialize the sentiment analyzer\n",
    "sia = SentimentIntensityAnalyzer()\n",
    "\n",
    "# Categorize sentences\n",
    "counter = 0\n",
    "scenario_one_categories = pd.Series(\"\" * len(scenario_one))\n",
    "for sentence in scenario_one:\n",
    "    sentiment_scores = sia.polarity_scores(sentence)\n",
    "    \n",
    "    # Classify as positive, negative, or neutral based on compound score\n",
    "    if sentiment_scores['compound'] >= 0.05:\n",
    "        sentiment = 'Positive view'\n",
    "    elif sentiment_scores['compound'] <= -0.05:\n",
    "        sentiment = 'Negative view'\n",
    "    else:\n",
    "        sentiment = 'Neutral'\n",
    "    scenario_one_categories[counter] = sentiment\n",
    "    counter+=1\n",
    "questions['scenario_one_sentiment'] = scenario_one_categories\n",
    "print(scenario_one_categories.value_counts())\n",
    "categories, counts = np.unique(scenario_one_categories, return_counts=True)\n",
    "plt.pie(counts, labels=categories, autopct='%1.1f%%', startangle=90)\n",
    "plt.title('You disagree with the recommendation that is given by the AI system.\\n How would you proceed?')\n",
    "plt.show()"
   ]
  },
  {
   "cell_type": "code",
   "execution_count": 199,
   "metadata": {},
   "outputs": [],
   "source": [
    "questions.to_csv(\"sentiment_analysis.csv\")"
   ]
  },
  {
   "cell_type": "code",
   "execution_count": 200,
   "id": "a0bb79aa",
   "metadata": {},
   "outputs": [
    {
     "name": "stdout",
     "output_type": "stream",
     "text": [
      "1.52 % correlation\n"
     ]
    },
    {
     "data": {
      "text/html": [
       "<div>\n",
       "<style scoped>\n",
       "    .dataframe tbody tr th:only-of-type {\n",
       "        vertical-align: middle;\n",
       "    }\n",
       "\n",
       "    .dataframe tbody tr th {\n",
       "        vertical-align: top;\n",
       "    }\n",
       "\n",
       "    .dataframe thead th {\n",
       "        text-align: right;\n",
       "    }\n",
       "</style>\n",
       "<table border=\"1\" class=\"dataframe\">\n",
       "  <thead>\n",
       "    <tr style=\"text-align: right;\">\n",
       "      <th>scenario_one_sentiment</th>\n",
       "      <th>-1</th>\n",
       "      <th>0</th>\n",
       "      <th>1</th>\n",
       "    </tr>\n",
       "    <tr>\n",
       "      <th>aiuse_optimism_aggregated</th>\n",
       "      <th></th>\n",
       "      <th></th>\n",
       "      <th></th>\n",
       "    </tr>\n",
       "  </thead>\n",
       "  <tbody>\n",
       "    <tr>\n",
       "      <th>-1</th>\n",
       "      <td>25.471698</td>\n",
       "      <td>42.45283</td>\n",
       "      <td>32.075472</td>\n",
       "    </tr>\n",
       "    <tr>\n",
       "      <th>0</th>\n",
       "      <td>24.083770</td>\n",
       "      <td>50.26178</td>\n",
       "      <td>25.654450</td>\n",
       "    </tr>\n",
       "    <tr>\n",
       "      <th>1</th>\n",
       "      <td>22.420635</td>\n",
       "      <td>47.02381</td>\n",
       "      <td>30.555556</td>\n",
       "    </tr>\n",
       "  </tbody>\n",
       "</table>\n",
       "</div>"
      ],
      "text/plain": [
       "scenario_one_sentiment            -1         0          1\n",
       "aiuse_optimism_aggregated                                \n",
       "-1                         25.471698  42.45283  32.075472\n",
       " 0                         24.083770  50.26178  25.654450\n",
       " 1                         22.420635  47.02381  30.555556"
      ]
     },
     "execution_count": 200,
     "metadata": {},
     "output_type": "execute_result"
    }
   ],
   "source": [
    "#Correlation between Scenario_one optimism and AI_Use optimism. \n",
    "questions.loc[questions['scenario_one_sentiment'] == 'Positive view','scenario_one_sentiment'] = 1 \n",
    "questions.loc[questions['scenario_one_sentiment'] == 'Negative view','scenario_one_sentiment'] = -1\n",
    "questions.loc[questions['scenario_one_sentiment'] == 'Neutral','scenario_one_sentiment'] = 0\n",
    "#print(questions['scenario_one_sentiment'].value_counts())\n",
    "\n",
    "questions.loc[questions['aiuse_optimism_aggregated'] == 'Optimistic','aiuse_optimism_aggregated'] = 1 \n",
    "questions.loc[questions['aiuse_optimism_aggregated'] == 'Pessimistic','aiuse_optimism_aggregated'] = -1\n",
    "questions.loc[questions['aiuse_optimism_aggregated'] == 'Neutral','aiuse_optimism_aggregated'] = 0\n",
    "#print(questions['aiuse_optimism_aggregated'].value_counts())\n",
    "print(round(questions.scenario_one_sentiment.corr(questions['aiuse_optimism_aggregated'])*100,2),\"% correlation\")\n",
    "questions.groupby('aiuse_optimism_aggregated')['scenario_one_sentiment'].value_counts(normalize=True).unstack()*100"
   ]
  },
  {
   "cell_type": "code",
   "execution_count": 201,
   "id": "7e2f59dd",
   "metadata": {},
   "outputs": [
    {
     "data": {
      "text/html": [
       "<div>\n",
       "<style scoped>\n",
       "    .dataframe tbody tr th:only-of-type {\n",
       "        vertical-align: middle;\n",
       "    }\n",
       "\n",
       "    .dataframe tbody tr th {\n",
       "        vertical-align: top;\n",
       "    }\n",
       "\n",
       "    .dataframe thead th {\n",
       "        text-align: right;\n",
       "    }\n",
       "</style>\n",
       "<table border=\"1\" class=\"dataframe\">\n",
       "  <thead>\n",
       "    <tr style=\"text-align: right;\">\n",
       "      <th>scenario_one_sentiment</th>\n",
       "      <th>-1</th>\n",
       "      <th>0</th>\n",
       "      <th>1</th>\n",
       "    </tr>\n",
       "    <tr>\n",
       "      <th>inside_uk_years</th>\n",
       "      <th></th>\n",
       "      <th></th>\n",
       "      <th></th>\n",
       "    </tr>\n",
       "  </thead>\n",
       "  <tbody>\n",
       "    <tr>\n",
       "      <th>15-24 years</th>\n",
       "      <td>21.134021</td>\n",
       "      <td>50.000000</td>\n",
       "      <td>28.865979</td>\n",
       "    </tr>\n",
       "    <tr>\n",
       "      <th>25-34 years</th>\n",
       "      <td>28.571429</td>\n",
       "      <td>43.506494</td>\n",
       "      <td>27.922078</td>\n",
       "    </tr>\n",
       "    <tr>\n",
       "      <th>35 years or more</th>\n",
       "      <td>24.210526</td>\n",
       "      <td>48.421053</td>\n",
       "      <td>27.368421</td>\n",
       "    </tr>\n",
       "    <tr>\n",
       "      <th>5-14 years</th>\n",
       "      <td>24.255319</td>\n",
       "      <td>46.808511</td>\n",
       "      <td>28.936170</td>\n",
       "    </tr>\n",
       "    <tr>\n",
       "      <th>Less than 5 years</th>\n",
       "      <td>21.363636</td>\n",
       "      <td>45.454545</td>\n",
       "      <td>33.181818</td>\n",
       "    </tr>\n",
       "    <tr>\n",
       "      <th>Prefer not to say</th>\n",
       "      <td>21.739130</td>\n",
       "      <td>47.826087</td>\n",
       "      <td>30.434783</td>\n",
       "    </tr>\n",
       "  </tbody>\n",
       "</table>\n",
       "</div>"
      ],
      "text/plain": [
       "scenario_one_sentiment         -1          0          1\n",
       "inside_uk_years                                        \n",
       "15-24 years             21.134021  50.000000  28.865979\n",
       "25-34 years             28.571429  43.506494  27.922078\n",
       "35 years or more        24.210526  48.421053  27.368421\n",
       "5-14 years              24.255319  46.808511  28.936170\n",
       "Less than 5 years       21.363636  45.454545  33.181818\n",
       "Prefer not to say       21.739130  47.826087  30.434783"
      ]
     },
     "execution_count": 201,
     "metadata": {},
     "output_type": "execute_result"
    }
   ],
   "source": [
    "# correlation between scenarity and view towards \n",
    "questions.groupby('inside_uk_years')['scenario_one_sentiment'].value_counts(normalize=True).unstack()*100"
   ]
  },
  {
   "cell_type": "code",
   "execution_count": 202,
   "id": "80e6f9c0",
   "metadata": {},
   "outputs": [
    {
     "data": {
      "text/html": [
       "<div>\n",
       "<style scoped>\n",
       "    .dataframe tbody tr th:only-of-type {\n",
       "        vertical-align: middle;\n",
       "    }\n",
       "\n",
       "    .dataframe tbody tr th {\n",
       "        vertical-align: top;\n",
       "    }\n",
       "\n",
       "    .dataframe thead th {\n",
       "        text-align: right;\n",
       "    }\n",
       "</style>\n",
       "<table border=\"1\" class=\"dataframe\">\n",
       "  <thead>\n",
       "    <tr style=\"text-align: right;\">\n",
       "      <th>scenario_one_sentiment</th>\n",
       "      <th>-1</th>\n",
       "      <th>0</th>\n",
       "      <th>1</th>\n",
       "    </tr>\n",
       "    <tr>\n",
       "      <th>used_any_ai</th>\n",
       "      <th></th>\n",
       "      <th></th>\n",
       "      <th></th>\n",
       "    </tr>\n",
       "  </thead>\n",
       "  <tbody>\n",
       "    <tr>\n",
       "      <th>0</th>\n",
       "      <td>23.312883</td>\n",
       "      <td>48.159509</td>\n",
       "      <td>28.527607</td>\n",
       "    </tr>\n",
       "    <tr>\n",
       "      <th>1</th>\n",
       "      <td>24.163569</td>\n",
       "      <td>43.494424</td>\n",
       "      <td>32.342007</td>\n",
       "    </tr>\n",
       "  </tbody>\n",
       "</table>\n",
       "</div>"
      ],
      "text/plain": [
       "scenario_one_sentiment         -1          0          1\n",
       "used_any_ai                                            \n",
       "0                       23.312883  48.159509  28.527607\n",
       "1                       24.163569  43.494424  32.342007"
      ]
     },
     "execution_count": 202,
     "metadata": {},
     "output_type": "execute_result"
    }
   ],
   "source": [
    "# Using any AI seems to have a correlation with less Neutral view\n",
    "questions.groupby('used_any_ai')['scenario_one_sentiment'].value_counts(normalize=True).unstack()*100"
   ]
  },
  {
   "cell_type": "code",
   "execution_count": 203,
   "id": "2fbe52ef",
   "metadata": {},
   "outputs": [
    {
     "name": "stdout",
     "output_type": "stream",
     "text": [
      "1.85 % correlation\n"
     ]
    }
   ],
   "source": [
    "from scipy.stats import pointbiserialr\n",
    "print(round(questions.scenario_one_sentiment.corr(questions['used_any_ai'])*100,2),\"% correlation\")"
   ]
  },
  {
   "cell_type": "code",
   "execution_count": 205,
   "id": "2e8375ac",
   "metadata": {},
   "outputs": [],
   "source": [
    "correlation_coefficient, p_value = pointbiserialr(questions.loc[0:924,'used_any_ai'], questions.loc[0:924,'scenario_one_sentiment'])\n"
   ]
  },
  {
   "cell_type": "code",
   "execution_count": 208,
   "id": "00f03625",
   "metadata": {},
   "outputs": [
    {
     "data": {
      "text/plain": [
       "inside_uk_years_aggregated\n",
       "5-24 years                 431\n",
       "25+ years                  250\n",
       "Less than 5 years (agg)    221\n",
       "Name: count, dtype: int64"
      ]
     },
     "execution_count": 208,
     "metadata": {},
     "output_type": "execute_result"
    }
   ],
   "source": [
    "# I think I should check if Nans are removed corrrectly otherwise rows might be changed ana analysis not reliable. \n",
    "# Change years into sceniority level. \n",
    "questions.inside_uk_years_aggregated.value_counts()\n",
    "questions['inside_uk_years_aggregated'].value_counts()"
   ]
  },
  {
   "cell_type": "markdown",
   "id": "0631bb16",
   "metadata": {},
   "source": [
    "### Correlation between Sceniority and Scenario One optimism"
   ]
  },
  {
   "cell_type": "code",
   "execution_count": 222,
   "id": "c88e39b1",
   "metadata": {},
   "outputs": [
    {
     "name": "stdout",
     "output_type": "stream",
     "text": [
      "-5.39 % correlation\n"
     ]
    },
    {
     "data": {
      "text/html": [
       "<div>\n",
       "<style scoped>\n",
       "    .dataframe tbody tr th:only-of-type {\n",
       "        vertical-align: middle;\n",
       "    }\n",
       "\n",
       "    .dataframe tbody tr th {\n",
       "        vertical-align: top;\n",
       "    }\n",
       "\n",
       "    .dataframe thead th {\n",
       "        text-align: right;\n",
       "    }\n",
       "</style>\n",
       "<table border=\"1\" class=\"dataframe\">\n",
       "  <thead>\n",
       "    <tr style=\"text-align: right;\">\n",
       "      <th>scenario_one_sentiment</th>\n",
       "      <th>-1</th>\n",
       "      <th>0</th>\n",
       "      <th>1</th>\n",
       "    </tr>\n",
       "    <tr>\n",
       "      <th>sceniority</th>\n",
       "      <th></th>\n",
       "      <th></th>\n",
       "      <th></th>\n",
       "    </tr>\n",
       "  </thead>\n",
       "  <tbody>\n",
       "    <tr>\n",
       "      <th>0</th>\n",
       "      <td>21.399177</td>\n",
       "      <td>45.679012</td>\n",
       "      <td>32.921811</td>\n",
       "    </tr>\n",
       "    <tr>\n",
       "      <th>1</th>\n",
       "      <td>22.843823</td>\n",
       "      <td>48.251748</td>\n",
       "      <td>28.904429</td>\n",
       "    </tr>\n",
       "    <tr>\n",
       "      <th>2</th>\n",
       "      <td>26.907631</td>\n",
       "      <td>45.381526</td>\n",
       "      <td>27.710843</td>\n",
       "    </tr>\n",
       "  </tbody>\n",
       "</table>\n",
       "</div>"
      ],
      "text/plain": [
       "scenario_one_sentiment         -1          0          1\n",
       "sceniority                                             \n",
       "0                       21.399177  45.679012  32.921811\n",
       "1                       22.843823  48.251748  28.904429\n",
       "2                       26.907631  45.381526  27.710843"
      ]
     },
     "execution_count": 222,
     "metadata": {},
     "output_type": "execute_result"
    }
   ],
   "source": [
    "# Change number of working years into sceniority\n",
    "questions['sceniority'] = 0\n",
    "questions.loc[questions.inside_uk_years_aggregated=='5-24 years', 'sceniority'] = 1\n",
    "questions.loc[questions.inside_uk_years_aggregated=='25+ years', 'sceniority'] = 2\n",
    "\n",
    "## A slight correlation between these sceniority and scenario one sentiment. Also interesting to know if p-values is significant and also include other covariates. \n",
    "print(round(questions.scenario_one_sentiment.corr(questions['sceniority'])*100,2),\"% correlation\")\n",
    "questions.groupby('sceniority')['scenario_one_sentiment'].value_counts(normalize=True).unstack()*100"
   ]
  },
  {
   "cell_type": "code",
   "execution_count": 1,
   "id": "f399baf7",
   "metadata": {},
   "outputs": [
    {
     "ename": "NameError",
     "evalue": "name 'texts' is not defined",
     "output_type": "error",
     "traceback": [
      "\u001b[0;31m---------------------------------------------------------------------------\u001b[0m",
      "\u001b[0;31mNameError\u001b[0m                                 Traceback (most recent call last)",
      "Cell \u001b[0;32mIn[1], line 8\u001b[0m\n\u001b[1;32m      4\u001b[0m \u001b[39mfrom\u001b[39;00m \u001b[39mpprint\u001b[39;00m \u001b[39mimport\u001b[39;00m pprint\n\u001b[1;32m      6\u001b[0m \u001b[39m# Preprocess your text data and create a dictionary and corpus\u001b[39;00m\n\u001b[1;32m      7\u001b[0m \u001b[39m# Assuming 'texts' is a list of preprocessed documents\u001b[39;00m\n\u001b[0;32m----> 8\u001b[0m dictionary \u001b[39m=\u001b[39m corpora\u001b[39m.\u001b[39mDictionary(texts)\n\u001b[1;32m      9\u001b[0m corpus \u001b[39m=\u001b[39m [dictionary\u001b[39m.\u001b[39mdoc2bow(text) \u001b[39mfor\u001b[39;00m text \u001b[39min\u001b[39;00m texts]\n\u001b[1;32m     11\u001b[0m \u001b[39m# Build the LDA model\u001b[39;00m\n",
      "\u001b[0;31mNameError\u001b[0m: name 'texts' is not defined"
     ]
    }
   ],
   "source": []
  }
 ],
 "metadata": {
  "kernelspec": {
   "display_name": "Python 3 (ipykernel)",
   "language": "python",
   "name": "python3"
  },
  "language_info": {
   "codemirror_mode": {
    "name": "ipython",
    "version": 3
   },
   "file_extension": ".py",
   "mimetype": "text/x-python",
   "name": "python",
   "nbconvert_exporter": "python",
   "pygments_lexer": "ipython3",
   "version": "3.11.5"
  }
 },
 "nbformat": 4,
 "nbformat_minor": 5
}
