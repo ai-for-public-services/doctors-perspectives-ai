{
 "cells": [
  {
   "cell_type": "code",
   "execution_count": 1,
   "metadata": {},
   "outputs": [],
   "source": [
    "# Quantized LLama\n",
    "from ctransformers import AutoModelForCausalLM,AutoTokenizer\n",
    "\n",
    "# Embedding Model\n",
    "from sentence_transformers import SentenceTransformer, util\n",
    "from sentence_transformers.util import cos_sim\n",
    "\n",
    "# Kmeans and PCA \n",
    "from sklearn.cluster import KMeans\n",
    "from sklearn.metrics import silhouette_samples, silhouette_score\n",
    "from sklearn.preprocessing import StandardScaler\n",
    "from sklearn.decomposition import PCA\n",
    "\n",
    "# Plotting\n",
    "import matplotlib.pyplot as plt\n",
    "\n",
    "# NLP utilities\n",
    "import re\n",
    "import nltk\n",
    "from nltk.corpus import stopwords\n",
    "from nltk.util import ngrams \n",
    "import string\n",
    "\n",
    "# Python dataframes and arrays\n",
    "import pandas as pd\n",
    "import numpy as np\n",
    "\n",
    "# Misc\n",
    "from collections import Counter\n",
    "\n",
    "import requests\n",
    "import json\n",
    "import torch\n",
    "from ctransformers import AutoModelForCausalLM\n",
    "import random\n",
    "import pandas as pd\n",
    "\n",
    "from gensim import corpora\n",
    "from gensim.models import LdaModel\n",
    "from gensim.models.coherencemodel import CoherenceModel\n",
    "from pprint import pprint"
   ]
  },
  {
   "cell_type": "markdown",
   "metadata": {},
   "source": [
    "### All llama codes"
   ]
  },
  {
   "cell_type": "code",
   "execution_count": 56,
   "metadata": {},
   "outputs": [],
   "source": [
    "target_url = 'https://Llama-2-70b-chat-dft-serverless.eastus2.inference.ai.azure.com'\n",
    "api_key = 't8FlgEG09Wlr9MfgXeIDMkJy0kv5eb8R'\n",
    "\n",
    "def ask_llama(prompt, temp = 1, max_tokens = 10000):\n",
    "    llm_inputs = {\n",
    "            \"messages\":\n",
    "            [\n",
    "                { \n",
    "                \"role\": \"system\", \n",
    "                \"content\": prompt\n",
    "                }\n",
    "            ],\n",
    "            \"temperature\": temp,\n",
    "        }\n",
    "    response = requests.post(f'{target_url}/v1/chat/completions', headers={'Authorization': f'Bearer {api_key}', 'Content-Type': 'application/json'}, data=json.dumps(llm_inputs))\n",
    "    return(response.json()['choices'][0]['message']['content'])\n",
    "\n",
    "## Generative AI system types\n",
    "prompt = \"You are a helpful research assistant. For the following set of Survey Responses, briefly summarize the generative systems they are using and also the percentage of respondants who are using that system \"+\".\\n\\nSurvey Responses: '\" + ''.join(gen_ai_systems.to_list())\n",
    "msg = ask_llama(prompt)\n",
    "print(msg)"
   ]
  },
  {
   "cell_type": "code",
   "execution_count": 2,
   "metadata": {},
   "outputs": [],
   "source": [
    "#Make a coulumn which includes all the AI-system used\n",
    "df = pd.read_csv(\"../Data/cleaned_analytic_file_for_viz_290224.csv\")\n",
    "df.head()\n",
    "df['details_ai_system'] = df['details_ai_system_1_1']\n",
    "df.loc[df['details_ai_system'].isnull(), 'details_ai_system'] = df.details_ai_system_1\n",
    "#Make a coulumn which includes all the AI-system used"
   ]
  },
  {
   "cell_type": "markdown",
   "metadata": {},
   "source": [
    "### Decision support systems details"
   ]
  },
  {
   "cell_type": "code",
   "execution_count": 74,
   "metadata": {},
   "outputs": [
    {
     "name": "stdout",
     "output_type": "stream",
     "text": [
      "88.0 %Percent of people using Decision support system mentioned details of the system they are using\n"
     ]
    },
    {
     "data": {
      "image/png": "[encoded data removed]",
      "text/plain": [
       "<Figure size 640x480 with 1 Axes>"
      ]
     },
     "metadata": {},
     "output_type": "display_data"
    },
    {
     "name": "stdout",
     "output_type": "stream",
     "text": [
      "Examples of Imaging include: brainomix, x-ray, CT scan, MRI, Radiology\n"
     ]
    }
   ],
   "source": [
    "# Bar chart for the type of DSS AI that applicants use, among those that have mentioned a system. \n",
    "dss_ai_systems = df.loc[df['ai_type_use_qs']== 'Diagnostic and decision support system', 'details_ai_system']\n",
    "used_freq = 100-sum(dss_ai_systems.isnull())/len(dss_ai_systems)*100\n",
    "print(round(used_freq,0),\"%Percent of people using Decision support system mentioned details of the system they are using\")\n",
    "system_list = [['ray', 'imag','scan','mri', 'radio', 'brain', 'oscopy', 'ultra', 'Lung'], \n",
    "               ['ecg', 'CTG'], ['risk','risc'],['predict','prog'],['detect','diag'], 'NELA', 'klinik','nhs','Neuro', 'Triage','Ardens']\n",
    "names = ['Imaging','ECG/CTG', 'Risk','Predict','Diagnos'] + system_list[5:]\n",
    "\n",
    "## Group details of AI decision support systems\n",
    "dss_ai_systems = pd.DataFrame(dss_ai_systems)\n",
    "dss_ai_systems[dss_ai_systems.isna()] = \"\"\n",
    "dss_ai_systems['group'] = \"\"\n",
    "all_index = [False]*len(dss_ai_systems)\n",
    "system_users = dict()\n",
    "for i in range(len(system_list)):\n",
    "    system = system_list[i]\n",
    "    name = names[i]\n",
    "    if(type(system)!=list):\n",
    "        system = [system]\n",
    "    index = dss_ai_systems.details_ai_system.apply(lambda x: True if any(ss.lower() in x.lower() for ss in system) else False)\n",
    "    dss_ai_systems.loc[index[index==True].index,'group'] = dss_ai_systems.loc[index[index==True].index,'group'].apply(lambda x: x+ \",\" + name if x!=\"\" else name)\n",
    "    all_index = np.logical_or(all_index,index)\n",
    "    system_users[''.join(list(name))] = dss_ai_systems[index]\n",
    "for i in dss_ai_systems.index:\n",
    "     if dss_ai_systems.loc[i,'group']==\"\" and dss_ai_systems.loc[i,'details_ai_system']!=\"\":\n",
    "        dss_ai_systems.loc[i,'group']= \"Other\"\n",
    "\n",
    "## Add it to the data frame as a dss_group\n",
    "df['dss_group'] =\"\"\n",
    "df.loc[dss_ai_systems.index,'dss_group'] = dss_ai_systems['group']\n",
    "system_users = dict(sorted(system_users.items(), key=lambda item: len(item[1]), reverse=True))\n",
    "values = [len(value) for value in system_users.values() if len(value) > 1]\n",
    "keys = list(system_users.keys())[:len(values)]\n",
    "\n",
    "plt.bar(keys, values)\n",
    "# Add number labels on top of each bar\n",
    "for i in range(len(keys)):\n",
    "   plt.text(i, values[i], str(round(values[i]/len(dss_ai_systems)*100)) + \"%\", ha='center', va='bottom')\n",
    "plt.title('Details of Decision support system used')\n",
    "plt.show()\n",
    "print('Examples of Imaging include: brainomix, x-ray, CT scan, MRI, Radiology')\n",
    "#system_users['all'] = dss_ai_systems"
   ]
  },
  {
   "cell_type": "markdown",
   "metadata": {},
   "source": [
    "### Generative system details"
   ]
  },
  {
   "cell_type": "code",
   "execution_count": 75,
   "metadata": {},
   "outputs": [
    {
     "name": "stdout",
     "output_type": "stream",
     "text": [
      "95.0 %Percent of people using generative AI mentioned details of the system they are using\n"
     ]
    }
   ],
   "source": [
    "# Bar chart for the type of Gen AI that applicants use, among those that have mentioned a system. \n",
    "gen_ai_systems = df.loc[df['ai_type_use_qs']== 'Generative system', 'details_ai_system']\n",
    "used_freq = 100-sum(gen_ai_systems.isnull())/len(gen_ai_systems)*100\n",
    "print(round(used_freq,0),\"%Percent of people using generative AI mentioned details of the system they are using\")\n",
    "gen_ai_systems = pd.DataFrame(gen_ai_systems)\n",
    "gen_ai_systems[gen_ai_systems.isna()] = \"\"\n",
    "\n",
    "system_list = [['gp','gbt'],'bard',[\"accu\",\"acu\"], 'pi']\n",
    "names = ['GPT','Bard','Accurx','Pi']\n",
    "\n",
    "## Group details of AI decision support systems\n",
    "gen_ai_systems['group'] = \"\"\n",
    "all_index = [False]*len(gen_ai_systems)\n",
    "system_users = dict()\n",
    "for i in range(len(system_list)):\n",
    "    system = system_list[i]\n",
    "    name = names[i]\n",
    "    if(type(system)!=list):\n",
    "        system = [system]\n",
    "    index = gen_ai_systems.details_ai_system.apply(lambda x: True if any(ss.lower() in x.lower() for ss in system) else False)\n",
    "    gen_ai_systems.loc[index[index==True].index,'group'] = gen_ai_systems.loc[index[index==True].index,'group'].apply(lambda x: x+ \",\" + name if x!=\"\" else name)\n",
    "    all_index = np.logical_or(all_index,index)\n",
    "    system_users[''.join(list(name))] = gen_ai_systems[index]\n",
    "for i in gen_ai_systems.index:\n",
    "     if gen_ai_systems.loc[i,'group']==\"\" and gen_ai_systems.loc[i,'details_ai_system']!=\"\":\n",
    "        gen_ai_systems.loc[i,'group']= \"Other\"\n",
    "\n",
    "## Add it to the data frame as a gen_group\n",
    "df['gen_group'] =\"\"\n",
    "df.loc[gen_ai_systems.index,'gen_group'] = gen_ai_systems['group']\n"
   ]
  },
  {
   "cell_type": "code",
   "execution_count": 18,
   "metadata": {},
   "outputs": [
    {
     "data": {
      "text/plain": [
       "<BarContainer object of 31 artists>"
      ]
     },
     "execution_count": 18,
     "metadata": {},
     "output_type": "execute_result"
    },
    {
     "data": {
      "image/png": "[encoded data removed]",
      "text/plain": [
       "<Figure size 640x480 with 1 Axes>"
      ]
     },
     "metadata": {},
     "output_type": "display_data"
    }
   ],
   "source": [
    "specialists = df.loc[df['main_areas_of_work']!='General Practice', 'main_areas_of_work']\n",
    "keys, values = np.unique(specialists.dropna(), return_counts=True)\n",
    "keys = keys[values.argsort()][:-1]\n",
    "values = sorted(values)[:-1]\n",
    "plt.barh(keys, values/sum(values)*100)"
   ]
  },
  {
   "cell_type": "markdown",
   "metadata": {},
   "source": [
    "### llama for decision support systems"
   ]
  },
  {
   "cell_type": "code",
   "execution_count": 591,
   "metadata": {},
   "outputs": [
    {
     "name": "stdout",
     "output_type": "stream",
     "text": [
      "  Sure, I can help you with that. Here's a summary of the responses you provided:\n",
      "\n",
      "* 13% of the doctors use Image processing toolkit\n",
      "* 11% use Bilirubin level check graph and decision making for treatment\n",
      "* 10% use Growth chart monitor\n",
      "* 9% use Rapid AI in Neuroimaging\n",
      "* 8% use ArdensOrthoview for templating joint replacement surgery\n",
      "* 7% use Risk stratification\n",
      "* 6% use EPIC\n",
      "* 5% use Radiology Reporting system before Radiologist report arrives\n",
      "* 5% use Endoscopy\n",
      "* 4% use Predict Prostate cancer UK\n",
      "* 4% use Briganti predictive tool for lymph node involvement in prostate cancer\n",
      "* 4% use PREP-S: Risk of complications in Early-onset Pre-eclampsia\n",
      "* 3% use Endo AID CADe (Olympus)\n",
      "* 3% use Radiology providers use systems to fast track approval for certain CTs and to triage abnormal CTs\n",
      "* 3% use NELAVeye lung nodules\n",
      "* 3% use CVI42 (automatic calculation cardiac volumes)\n",
      "* 3% use SyngoVia (automatic calculation coronary calcium)\n",
      "* 2% use NHS app\n",
      "* 2% use NHS mail\n",
      "* 2% use Polyp recognition in endoscopy\n",
      "* 2% use Neomate, Eolas, Early neonatal sepsis calculator - Kaiser permanent\n",
      "* 2% use ecardiovascular risc calculator\n",
      "* 2% use FRAX\n",
      "* 2% use Robotic knee replacement\n",
      "* 2% use Pulmonary embolism, intracranial bleed, Cervical spine fracture\n",
      "* 2% use RadiologyEMIS templates and formula such as Q-risk or NEWS2 risk assessment tool\n",
      "* 2% use Fracture risk assessment tool\n",
      "* 2% use ISABELAI in colonoscopy\n",
      "* 2% use Chest Xray reported by AI system helps in diagnosis\n",
      "* 2% use NELA calculations\n",
      "* 2% use Lung nodule detection AI\n",
      "* 2% use Intellivue intelligent ultrasound\n",
      "* 2% use Brainomix / RapidAI for stroke\n",
      "* 2% use NELA operative risk calculation\n",
      "* 2% use ScanNav\n",
      "* 2% use It’s my own that I made\n",
      "* 2% use QRISK3\n",
      "* 2% use Annalise\n",
      "* 2% use Rapid and brainomix\n",
      "* 2% use Colonoscopy polyp detection AI tool- 3 devices trialed\n",
      "* 2% use Electronic medical records with clinical stratification tools as well as triage tools\n",
      "* 2% use KlinikKlinik Triage system\n",
      "* 2% use Used AI diagnostic aid tool with Xray in my previous hospital in Abu Dhabi\n",
      "* 2% use Brainomix, qxr, bone expert, boneview\n",
      "* 2% use Circle - Cardiac MRI reporting software\n",
      "* 2% use RBfracture, plain radiograph fracture detection\n",
      "* 2% use ultrasound diagnostic decision aid\n",
      "* 2% use QRisk, MDCalC (ChadsVasc, Well's etc)\n",
      "* 2% use Brainomix, Qure AI, used for assessment of stroke and ich\n",
      "* 2% use GPAutomate\n",
      "* 2% use Brainomix e-Stroke software suite for analyzing neuroimaging\n",
      "* 2% use EMIS: Egton Medical Information System, an I.T. software programme that can predict diagnoses based on clinical data like prediction of sepsis or warning me about drug interactions\n",
      "* 2% use Paige Prostate for diagnosis of prostate cancer on histology\n",
      "* 2% use NHS PREDICTPACS fracture detection\n",
      "* 2% use I have been working on mammographic interpretation systems.\n",
      "* 2% use tools that help understand the prognosis of a cancer integrating pathology and other data\n",
      "* 2% use Glass\n",
      "* 2% use Not directly as a GP, but some of our scans done at the local hospital give a report which says the report was aided by AI\n",
      "* 2% use ECG interpretation\n",
      "* 2% use On SecreaECG automatic report\n",
      "* 2% use qure.ai CXR prioritisation-MRI/CT scan\n",
      "* 2% use DiagnosticsAI for radiology interpretation CT AND X-RAY\n",
      "* 2% use Violet, caremaps\n",
      "* 2% use Adult neuro developmental support system\n",
      "* 2% use eRS C&B, e-derma, ICE, electronic health record, PACS, etc.\n",
      "* 2% use automated report in radiology imaging\n",
      "* 2% use Carepals for embryo selection\n",
      "* 2% use Patient data based predictive risk scoring, digital imaging, retrospective data graphing( eg: lab reports)\n",
      "* 2% use brainmix\n",
      "* 2% use BonExpert for Bone Age Xrays\n",
      "* 2% use Dawes Redmann CTG, Gap & Grow App\n",
      "* 2% use Various lesion detection solutions\n",
      "* 2% use Biologics for treating primary osteoarthritis in manual worker\n",
      "* 2% use MRI scan\n",
      "* 2% use Meditec V6.\n",
      "* 2% use KlinikNELA and possum scoring systems, and the SORT system\n",
      "* 2% use Lung nodule detection on CT\n",
      "* 2% use Brainomix\n",
      "* 2% use Computerised CTG analysis\n",
      "* 2% use CVI42\n",
      "* 2% use Circle\n",
      "* 2% use Dawes-Redman antenatal CTG analysis\n",
      "* 2% use CV\n",
      "\n",
      "Note that some of the responses may overlap, so the total percentage may add up to more than 100%.\n"
     ]
    }
   ],
   "source": [
    "## Generative AI system types\n",
    "prompt = \"You are a helpful research assistant. A group of doctors were asked the details of \\\n",
    "diagnosis and decision support AI systems they use for their work. what percent of them use Image processing toolkit? \\n survey responses:\\n\" + ''.join(dss_ai_systems.to_list())\n",
    "msg = ask_llama(prompt)\n",
    "print(msg)"
   ]
  },
  {
   "cell_type": "code",
   "execution_count": 143,
   "metadata": {},
   "outputs": [
    {
     "name": "stdout",
     "output_type": "stream",
     "text": [
      "Number of people who didn't know: 109\n",
      "Percent of people who don't know: 11.78 %\n"
     ]
    }
   ],
   "source": [
    "## Scenario_1 anaysis\n",
    "question_scenario_one = \"You are using an AI clinical decision-support system which recommends \\\n",
    "treatment options for individual patients. You disagree with the recommendation that is given by \\\n",
    "the system. How would you proceed?\"\n",
    "\n",
    "not_know_lists = [\"dont know\",\"don't know\", \"not know\", \"not sure\", \"don’t know\"]\n",
    "df = df.dropna(subset=['scenario_one'])\n",
    "df['not_know'] = df['scenario_one'].apply(lambda x: 1 if any(ss.lower() in x.lower() for ss in not_know_lists) else 0)\n",
    "\n",
    "print(\"Number of people who didn't know:\", sum(df['not_know']))\n",
    "print(\"Percent of people who don't know:\",round(sum(df['not_know'])/len(df)*100,2),\"%\")\n",
    "df_filtered = df[df['not_know']== 0]\n",
    "df_filtered.index = range(len(df_filtered))"
   ]
  },
  {
   "cell_type": "code",
   "execution_count": 186,
   "metadata": {},
   "outputs": [
    {
     "name": "stdout",
     "output_type": "stream",
     "text": [
      "I would trust my clinical judgment and  give patient choice about  both options\n",
      "get help from a senior doctor or colleague\n",
      "Recheck guideline parameters\n",
      "Ask peers for advice\n",
      "Escalate to senior clinician \n",
      "\n",
      "Patient management is multifaceted and usually takes into consideration features from the history, examination and investigation findings to decide if treatment is indicated in a patient. I am less likely to be inflexible in my assessment  and decision to treat a patient than an AI.\n",
      "Consult with another health care specialist with regards to the decision\n",
      "I would seek other opinions from my colleagues or experts in the field. I would be happy to override the AI recommendation if we see fit.\n",
      "I would prescribe based on my clinical training and standard guidelines/evidence\n",
      "It is a supportive system and not an alternative to the human. So I would override it and continue on my own\n",
      "I will check national and local guidelines before follow AI recommendations or my own decision.\n",
      "\n",
      "I would choose the treatment option based on the national/local guidelines and justify these with reasoning.\n"
     ]
    }
   ],
   "source": [
    "paragraph = '\\n'.join(df_filtered['scenario_one'][0:10].to_list())\n",
    "print(paragraph)"
   ]
  },
  {
   "cell_type": "code",
   "execution_count": null,
   "metadata": {},
   "outputs": [],
   "source": [
    "prompt1 = \"You are a helpful research assistant. how many times 'don't know' expression has happened in the following chunk of tex:? \\\n",
    "to the following question:\" + question_scenario_one+ \".\\n\\nSurvey Responses: '\" + ''.join(df_filtered['scenario_one'][1:100].to_list())\n",
    "\n",
    "msg = ask_llama(prompt1)\n",
    "print(msg)"
   ]
  },
  {
   "cell_type": "code",
   "execution_count": 184,
   "metadata": {},
   "outputs": [
    {
     "name": "stdout",
     "output_type": "stream",
     "text": [
      "  Sure, here are the meaningful sentences in the given paragraph without further explanation:\n",
      "\n",
      "1. I would trust my clinical judgment and give patients a choice between the two options.\n",
      "2. I would seek help from a senior doctor or colleague.\n",
      "3. I would recheck the guideline parameters.\n",
      "4. I would ask peers for advice.\n",
      "5. I would escalate to a senior clinician.\n",
      "6. Patient management is multifaceted and considers history, examination, and investigation findings.\n",
      "7. I am less likely to be inflexible in my assessment and decision to treat a patient than an AI.\n",
      "8. I would consult with another healthcare specialist regarding the decision.\n",
      "9. I would seek other opinions from colleagues or experts in the field.\n",
      "10. I would be happy to override the AI recommendation if necessary.\n",
      "11. I would prescribe based on my clinical training and standard guidelines/evidence.\n",
      "12. I would override the AI and continue with my own decision.\n",
      "13. I would check national and local guidelines before following AI recommendations or my own decision.\n",
      "14. I would choose the treatment option based on national/local guidelines and justify my reasoning.\n"
     ]
    }
   ],
   "source": [
    "prompt1 = \"You are a helpful research assistant. a doctor was asked the following question on using AI for healthcare, \\\n",
    "    can you break their response into topics/themes? Question:\" \\\n",
    "+ question_scenario_one+ \".\\n\\n Response: '\" \n",
    "prompt2 = \"can you break down this paragraph into meaningful sentences without further explanation:\\n\\n\" \n",
    "paragraph = '\\n'.join(df_filtered['scenario_one'][0:10].to_list())\n",
    "msg = ask_llama(prompt2+paragraph)\n",
    "print(msg)\n"
   ]
  },
  {
   "cell_type": "code",
   "execution_count": null,
   "metadata": {},
   "outputs": [],
   "source": []
  },
  {
   "cell_type": "code",
   "execution_count": null,
   "metadata": {},
   "outputs": [],
   "source": [
    "all_themes = []\n",
    "for i in range(10):\n",
    "    response = df_filtered['scenario_one'][i]\n",
    "    #print(prompt2+response)\n",
    "    msg = ask_llama(prompt2+response)\n",
    "    theme = re.split(r\"\\n\\n\", msg)[1]\n",
    "    all_themes.append(theme)"
   ]
  },
  {
   "cell_type": "code",
   "execution_count": 182,
   "metadata": {},
   "outputs": [
    {
     "data": {
      "text/plain": [
       "0    I would trust my clinical judgment and  give p...\n",
       "1           get help from a senior doctor or colleague\n",
       "2    Recheck guideline parameters\\r\\r\\nAsk peers fo...\n",
       "3    Patient management is multifaceted and usually...\n",
       "4    Consult with another health care specialist wi...\n",
       "5    I would seek other opinions from my colleagues...\n",
       "6    I would prescribe based on my clinical trainin...\n",
       "7    It is a supportive system and not an alternati...\n",
       "8    I will check national and local guidelines bef...\n",
       "9    I would choose the treatment option based on t...\n",
       "Name: scenario_one, dtype: object"
      ]
     },
     "execution_count": 182,
     "metadata": {},
     "output_type": "execute_result"
    }
   ],
   "source": [
    "df_filtered['scenario_one'][0:10]"
   ]
  },
  {
   "cell_type": "code",
   "execution_count": 180,
   "metadata": {},
   "outputs": [
    {
     "name": "stdout",
     "output_type": "stream",
     "text": [
      "['1. I would trust my clinical judgment.\\n2. I would give patients a choice about both options.', '1. Get help from a senior doctor.\\n2. Get help from a colleague.', '1. Recheck guideline parameters.\\n2. Ask peers for advice.\\n3. Escalate to senior clinician.', '1. Patient management is multifaceted.\\n2. Patient management takes into consideration features from the history, examination, and investigation findings.\\n3. These factors are used to decide if treatment is indicated in a patient.\\n4. I am less likely to be inflexible in my assessment and decision to treat a patient than an AI.', '1. Consult with another health care specialist.\\n2. The consultation is regarding the decision.', '1. I would seek other opinions from my colleagues or experts in the field.\\n2. I would be happy to override the AI recommendation if we see fit.', '1. I would prescribe...\\n2. ...based on my clinical training...\\n3. ...and standard guidelines/evidence.', '1. It is a supportive system.\\n2. It is not an alternative to the human.\\n3. I would override it.\\n4. I would continue on my own.', '1. I will check national guidelines before following AI recommendations or my own decision.\\n2. I will check local guidelines before following AI recommendations or my own decision.', '1. I would choose the treatment option based on the national/local guidelines.\\n2. I would justify my choice of treatment option with reasoning.\\n3. The national/local guidelines would serve as the basis for my decision-making process.\\n4. My decision-making process would be informed by the guidelines and supported by reasoning.\\n5. The reasoning behind my choice of treatment option would be grounded in the national/local guidelines.']\n"
     ]
    }
   ],
   "source": []
  },
  {
   "cell_type": "code",
   "execution_count": 147,
   "metadata": {},
   "outputs": [
    {
     "ename": "IndexError",
     "evalue": "list index out of range",
     "output_type": "error",
     "traceback": [
      "\u001b[0;31m---------------------------------------------------------------------------\u001b[0m",
      "\u001b[0;31mIndexError\u001b[0m                                Traceback (most recent call last)",
      "Cell \u001b[0;32mIn[147], line 3\u001b[0m\n\u001b[1;32m      1\u001b[0m revised_themes \u001b[39m=\u001b[39m []\n\u001b[1;32m      2\u001b[0m \u001b[39mfor\u001b[39;00m response \u001b[39min\u001b[39;00m \u001b[39mrange\u001b[39m(\u001b[39m10\u001b[39m):\n\u001b[0;32m----> 3\u001b[0m     themes \u001b[39m=\u001b[39m (re\u001b[39m.\u001b[39;49msplit(\u001b[39mr\u001b[39;49m\u001b[39m\"\u001b[39;49m\u001b[39m Sure, here are the meaningful sentences:\u001b[39;49m\u001b[39m\\\u001b[39;49m\u001b[39mn\u001b[39;49m\u001b[39m\\\u001b[39;49m\u001b[39mn\u001b[39;49m\u001b[39m\"\u001b[39;49m, all_themes[i])[\u001b[39m1\u001b[39;49m])\n\u001b[1;32m      4\u001b[0m     \u001b[39mprint\u001b[39m(themes)\n\u001b[1;32m      5\u001b[0m     revised_themes\u001b[39m.\u001b[39mappend(themes)\n",
      "\u001b[0;31mIndexError\u001b[0m: list index out of range"
     ]
    }
   ],
   "source": [
    "revised_themes = []\n",
    "for response in range(10):\n",
    "    themes = (re.split(r\"\\n\\n\", all_themes[i])[1])\n",
    "    print(themes)\n",
    "    revised_themes.append(themes)"
   ]
  },
  {
   "cell_type": "code",
   "execution_count": 205,
   "metadata": {},
   "outputs": [],
   "source": [
    "text = df_filtered['scenario_one'][0:10]"
   ]
  },
  {
   "cell_type": "markdown",
   "metadata": {},
   "source": [
    "### Using Gensim library for topic modelling of each response. "
   ]
  },
  {
   "cell_type": "code",
   "execution_count": 209,
   "metadata": {},
   "outputs": [],
   "source": [
    "\n",
    "# Preprocess your text data and create a dictionary and corpus\n",
    "# Assuming 'texts' is a list of preprocessed documents\n",
    "texts = df_filtered['scenario_one'][0:10]\n",
    "dictionary = corpora.Dictionary([texts])\n",
    "dictionary.doc2bow\n"
   ]
  },
  {
   "cell_type": "code",
   "execution_count": null,
   "metadata": {},
   "outputs": [],
   "source": [
    "corpus = [dictionary.doc2bow(text) for text in texts]\n",
    "\n",
    "# Build the LDA model\n",
    "lda_model = LdaModel(corpus=corpus, id2word=dictionary, num_topics=10, passes=10)\n",
    "\n",
    "# Print the topics\n",
    "pprint(lda_model.print_topics())\n",
    "\n",
    "# Evaluate coherence score\n",
    "coherence_model_lda = CoherenceModel(model=lda_model, texts=texts, dictionary=dictionary, coherence='c_v')\n",
    "coherence_lda = coherence_model_lda.get_coherence()\n",
    "print('\\nCoherence Score: ', coherence_lda)"
   ]
  },
  {
   "cell_type": "code",
   "execution_count": null,
   "metadata": {},
   "outputs": [],
   "source": [
    "# Bar chart for the type of generative AI that applicants use, among those that have mentioned a system\n",
    "# I should change it to lower case insensitive - done\n",
    "gen_ai_systems = df.loc[df['ai_type_use_qs']== 'Generative system', 'details_ai_system']\n",
    "used_freq = 100-sum(gen_ai_systems.isnull())/len(gen_ai_systems)*100\n",
    "print(round(used_freq,0),\"%Percent of people using generative AI mentioned details of the system they are using\")\n",
    "gen_ai_systems = gen_ai_systems.dropna()\n",
    "gpt_list = [\"gp\", \"gbt\"]\n",
    "bard_list = [\"bard\"]\n",
    "accurx_list = [\"accu\",\"acu\"]\n",
    "all_list = gpt_list + bard_list + accurx_list\n",
    "categories, counts = np.unique(gen_ai_systems, return_counts=True)\n",
    "gpt = sum(gen_ai_systems.apply(lambda x: 1 if \"gp\" in x.lower()  or \"gbt\".lower() in x.lower() else 0))/len(gen_ai_systems)*100\n",
    "bard = sum(gen_ai_systems.apply(lambda x: 1 if \"bard\" in x.lower() else 0))/len(gen_ai_systems)*100\n",
    "accurx = sum(gen_ai_systems.apply(lambda x: 1 if (\"accu\" in x.lower()) or (\"acu\" in x.lower()) else 0))/len(gen_ai_systems)*100\n",
    "pi_ai = sum(gen_ai_systems.apply(lambda x: 1 if \"pi\" in x.lower() else 0))/len(gen_ai_systems)*100\n",
    "\n",
    "other = gen_ai_systems.apply(lambda x: False if any(ss in x.lower() for ss in all_list) else True)\n",
    "cat, counts = np.unique(gen_ai_systems[other], return_counts=True)\n",
    "counts = counts/len(gen_ai_systems)*100\n",
    "cats = ['GPT','Bard','Accurx','Pi', 'others']\n",
    "values = [gpt,bard,accurx,pi_ai ,len(counts)/len(gen_ai_systems)*100]\n",
    "plt.bar(cats, values)\n",
    "for i in range(len(cats)):\n",
    "    plt.text(i, values[i], str(round(values[i])) + \"%\", ha='center', va='bottom')\n",
    "# Add number labels on top of each bar\n",
    "plt.title('Details of Generative AI system used')\n",
    "plt.show()\n",
    "print(\"Other systems mentioned:\\n\")\n",
    "for x in gen_ai_systems[other]:\n",
    "    print(x)"
   ]
  },
  {
   "cell_type": "code",
   "execution_count": 96,
   "metadata": {},
   "outputs": [
    {
     "name": "stdout",
     "output_type": "stream",
     "text": [
      "I would trust my clinical judgment and  give patient choice about  both options\n"
     ]
    }
   ],
   "source": []
  },
  {
   "cell_type": "code",
   "execution_count": 85,
   "metadata": {},
   "outputs": [
    {
     "ename": "IndexError",
     "evalue": "list index out of range",
     "output_type": "error",
     "traceback": [
      "\u001b[0;31m---------------------------------------------------------------------------\u001b[0m",
      "\u001b[0;31mIndexError\u001b[0m                                Traceback (most recent call last)",
      "Cell \u001b[0;32mIn[85], line 1\u001b[0m\n\u001b[0;32m----> 1\u001b[0m \u001b[39mprint\u001b[39m(re\u001b[39m.\u001b[39;49msplit(\u001b[39mr\u001b[39;49m\u001b[39m\"\u001b[39;49m\u001b[39mSure! Here are the main themes extracted from the survey response:\u001b[39;49m\u001b[39m\\\u001b[39;49m\u001b[39mn\u001b[39;49m\u001b[39m\\\u001b[39;49m\u001b[39mn\u001b[39;49m\u001b[39m\"\u001b[39;49m, all_themes[\u001b[39m1\u001b[39;49m])[\u001b[39m1\u001b[39;49m])\n",
      "\u001b[0;31mIndexError\u001b[0m: list index out of range"
     ]
    }
   ],
   "source": [
    "print(re.split(r\"Sure! Here are the main themes extracted from the survey response:\\n\\n\", all_themes[1])[1])"
   ]
  },
  {
   "cell_type": "code",
   "execution_count": null,
   "metadata": {},
   "outputs": [],
   "source": [
    "response = df_filtered['scenario_one'][7]\n",
    "prompt = \"You are a helpful research assistant. someone is asked the following question:\\n\" + question_scenario_one + \"\\n can you list the main themes in the response (just the themes in the response not your own interpretation)? \\n response:\\n\" \\\n",
    "+  response\n",
    "msg = ask_llama(prompt + response)\n",
    "print(msg)"
   ]
  },
  {
   "cell_type": "code",
   "execution_count": null,
   "metadata": {},
   "outputs": [],
   "source": [
    "print(response)"
   ]
  },
  {
   "cell_type": "code",
   "execution_count": null,
   "metadata": {},
   "outputs": [],
   "source": [
    "# Create the regular expression pattern with the variable\n",
    "for i in range(1,28):\n",
    "    pattern = re.compile('\\n\\n' + str(i) + '. ')\n",
    "\n",
    "# Split the string by the arbitrary number\n",
    "    splitted_text = pattern.split(msg)\n",
    "len(splitted_text)\n",
    "#msg_list = re.split(r'\\n\\n', msg)\n",
    "#re.split(r'3. ', msg_list[2])[1]"
   ]
  },
  {
   "cell_type": "code",
   "execution_count": null,
   "metadata": {},
   "outputs": [],
   "source": [
    "msg_list = re.split(r'\\n\\n', msg)\n",
    "clean_msg_list = []\n",
    "for i in range(2,28):\n",
    "     pattern = re.compile(str(i+1) + '. ')\n",
    "     text = pattern.split(msg_list[i])[1]\n",
    "     clean_msg_list = clean_msg_list + [text]\n",
    "     print(text)"
   ]
  },
  {
   "cell_type": "code",
   "execution_count": null,
   "metadata": {},
   "outputs": [],
   "source": [
    "a = []\n",
    "for i in range(len(msg_list)):\n",
    "    j = 0\n",
    "    flag = 0\n",
    "    while j<len(df):\n",
    "        if df['scenario_one'][j] in msg_list[i]:\n",
    "            a = a + [j]\n",
    "            flag = 1\n",
    "            break\n",
    "        j = j+1\n",
    "    if flag ==0:\n",
    "        print(msg_list[i])\n"
   ]
  },
  {
   "cell_type": "code",
   "execution_count": null,
   "metadata": {},
   "outputs": [],
   "source": [
    "msg_list[1].split('')"
   ]
  },
  {
   "cell_type": "code",
   "execution_count": null,
   "metadata": {},
   "outputs": [],
   "source": [
    "re.split(r'1', msg_list[0])"
   ]
  },
  {
   "cell_type": "markdown",
   "metadata": {},
   "source": [
    "Decision support system detais"
   ]
  },
  {
   "cell_type": "code",
   "execution_count": null,
   "metadata": {},
   "outputs": [],
   "source": []
  },
  {
   "cell_type": "code",
   "execution_count": null,
   "metadata": {},
   "outputs": [],
   "source": [
    "value, counts = np.unique(dss_ai_systems, return_counts=True)"
   ]
  },
  {
   "cell_type": "code",
   "execution_count": null,
   "metadata": {},
   "outputs": [],
   "source": [
    "print(\"  Sure, here's a summary of the generative systems used by the respondents in the survey:\\n\\n1. ChatGPT - This is the most commonly used generative system, with several respondents mentioning that they use it for various tasks such as writing code, creating patient information leaflets, assisting with excel formulae, and generating text for presentations.\\n2. Bard - A few respondents mentioned using Bard, either alone or in combination with\")"
   ]
  },
  {
   "cell_type": "code",
   "execution_count": null,
   "metadata": {},
   "outputs": [],
   "source": [
    "df.groupby('pmq')[['age','gender','registration_status', 'main_areas_of_work']].describe()"
   ]
  },
  {
   "cell_type": "code",
   "execution_count": null,
   "metadata": {},
   "outputs": [],
   "source": [
    "pi_ai = gen_ai_systems.apply(lambda x: True if \"pi\" in x.lower() else False)\n",
    "gen_ai_systems[pi_ai]"
   ]
  },
  {
   "cell_type": "code",
   "execution_count": null,
   "metadata": {},
   "outputs": [],
   "source": [
    "cats, counts  = np.unique(df['pmq'], return_counts=True)\n",
    "cats = ['EU','Outside EU','UK']\n",
    "plt.bar(cats, counts/sum(counts)*100)"
   ]
  },
  {
   "cell_type": "code",
   "execution_count": null,
   "metadata": {},
   "outputs": [],
   "source": [
    "\n",
    "#Remove NaNs. \n",
    "mask = questions.scenario_one.isnull()\n",
    "print(\"number of NaNs in scenario one:\",questions.scenario_one.isnull().sum())\n",
    "questions = questions.dropna(subset=['details_ai_system_1_1'])\n",
    "print(\"Number of entries after NaNs removal\", len(questions))\n",
    "\n",
    "#Read Data\n",
    "aiuse_optimism = questions[\"aiuse_optimism_aggregated\"].tolist() # multiple choice q\n",
    "scenario_one = questions[\"scenario_one\"].tolist() # free text q"
   ]
  },
  {
   "cell_type": "code",
   "execution_count": null,
   "metadata": {},
   "outputs": [],
   "source": [
    "\n"
   ]
  }
 ],
 "metadata": {
  "kernelspec": {
   "display_name": "Python 3",
   "language": "python",
   "name": "python3"
  },
  "language_info": {
   "codemirror_mode": {
    "name": "ipython",
    "version": 3
   },
   "file_extension": ".py",
   "mimetype": "text/x-python",
   "name": "python",
   "nbconvert_exporter": "python",
   "pygments_lexer": "ipython3",
   "version": "3.11.5"
  },
  "orig_nbformat": 4
 },
 "nbformat": 4,
 "nbformat_minor": 2
}
