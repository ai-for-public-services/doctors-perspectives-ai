{
 "cells": [
  {
   "cell_type": "code",
   "execution_count": 1,
   "metadata": {},
   "outputs": [],
   "source": [
    "# Quantized LLama\n",
    "from ctransformers import AutoModelForCausalLM,AutoTokenizer\n",
    "\n",
    "# Embedding Model\n",
    "from sentence_transformers import SentenceTransformer, util\n",
    "from sentence_transformers.util import cos_sim\n",
    "\n",
    "# Kmeans and PCA \n",
    "from sklearn.cluster import KMeans\n",
    "from sklearn.metrics import silhouette_samples, silhouette_score\n",
    "from sklearn.preprocessing import StandardScaler\n",
    "from sklearn.decomposition import PCA\n",
    "\n",
    "# Plotting\n",
    "import matplotlib.pyplot as plt\n",
    "\n",
    "# NLP utilities\n",
    "import re\n",
    "import nltk\n",
    "from nltk.corpus import stopwords\n",
    "from nltk.util import ngrams \n",
    "import string\n",
    "\n",
    "# Python dataframes and arrays\n",
    "import pandas as pd\n",
    "import numpy as np\n",
    "\n",
    "# Misc\n",
    "from collections import Counter\n",
    "\n",
    "import requests\n",
    "import json\n",
    "import torch\n",
    "from ctransformers import AutoModelForCausalLM\n",
    "import random\n",
    "import pandas as pd\n",
    "\n",
    "from gensim import corpora\n",
    "from gensim.models import LdaModel\n",
    "from gensim.models.coherencemodel import CoherenceModel\n",
    "from pprint import pprint\n",
    "\n",
    "\n",
    "from sklearn.feature_extraction.text import CountVectorizer\n",
    "from sklearn.decomposition import LatentDirichletAllocation"
   ]
  },
  {
   "cell_type": "code",
   "execution_count": 2,
   "metadata": {},
   "outputs": [],
   "source": [
    "## Set up llama on Azure\n",
    "target_url = 'https://Llama-2-70b-chat-dft-serverless.eastus2.inference.ai.azure.com'\n",
    "api_key = 't8FlgEG09Wlr9MfgXeIDMkJy0kv5eb8R'\n",
    "\n",
    "def ask_llama(prompt, temp = 1, max_tokens = 10000):\n",
    "    llm_inputs = {\n",
    "            \"messages\":\n",
    "            [\n",
    "                { \n",
    "                \"role\": \"system\", \n",
    "                \"content\": prompt\n",
    "                }\n",
    "            ],\n",
    "            \"temperature\": temp,\n",
    "        }\n",
    "    response = requests.post(f'{target_url}/v1/chat/completions', headers={'Authorization': f'Bearer {api_key}', 'Content-Type': 'application/json'}, data=json.dumps(llm_inputs))\n",
    "    return(response.json()['choices'][0]['message']['content'])"
   ]
  },
  {
   "cell_type": "code",
   "execution_count": 14,
   "metadata": {},
   "outputs": [
    {
     "data": {
      "text/plain": [
       "[(0,\n",
       "  '0.100*\"I will check national and local guidelines before follow AI recommendations or my own decision.\\r\\r\\n\" + 0.100*\"I would choose the treatment option based on the national/local guidelines and justify these with reasoning.\" + 0.100*\"I would prescribe based on my clinical training and standard guidelines/evidence\" + 0.100*\"Patient management is multifaceted and usually takes into consideration features from the history, examination and investigation findings to decide if treatment is indicated in a patient. I am less likely to be inflexible in my assessment  and decision to treat a patient than an AI.\" + 0.100*\"It is a supportive system and not an alternative to the human. So I would override it and continue on my own\" + 0.100*\"get help from a senior doctor or colleague\" + 0.100*\"Recheck guideline parameters\\r\\r\\nAsk peers for advice\\r\\r\\nEscalate to senior clinician \\r\\r\\n\" + 0.100*\"I would seek other opinions from my colleagues or experts in the field. I would be happy to override the AI recommendation if we see fit.\" + 0.100*\"Consult with another health care specialist with regards to the decision\" + 0.100*\"I would trust my clinical judgment and  give patient choice about  both options\"'),\n",
       " (1,\n",
       "  '0.550*\"It is a supportive system and not an alternative to the human. So I would override it and continue on my own\" + 0.050*\"I will check national and local guidelines before follow AI recommendations or my own decision.\\r\\r\\n\" + 0.050*\"I would trust my clinical judgment and  give patient choice about  both options\" + 0.050*\"Patient management is multifaceted and usually takes into consideration features from the history, examination and investigation findings to decide if treatment is indicated in a patient. I am less likely to be inflexible in my assessment  and decision to treat a patient than an AI.\" + 0.050*\"get help from a senior doctor or colleague\" + 0.050*\"Recheck guideline parameters\\r\\r\\nAsk peers for advice\\r\\r\\nEscalate to senior clinician \\r\\r\\n\" + 0.050*\"I would prescribe based on my clinical training and standard guidelines/evidence\" + 0.050*\"Consult with another health care specialist with regards to the decision\" + 0.050*\"I would choose the treatment option based on the national/local guidelines and justify these with reasoning.\" + 0.050*\"I would seek other opinions from my colleagues or experts in the field. I would be happy to override the AI recommendation if we see fit.\"'),\n",
       " (2,\n",
       "  '0.550*\"I will check national and local guidelines before follow AI recommendations or my own decision.\\r\\r\\n\" + 0.050*\"I would prescribe based on my clinical training and standard guidelines/evidence\" + 0.050*\"I would choose the treatment option based on the national/local guidelines and justify these with reasoning.\" + 0.050*\"Consult with another health care specialist with regards to the decision\" + 0.050*\"I would trust my clinical judgment and  give patient choice about  both options\" + 0.050*\"It is a supportive system and not an alternative to the human. So I would override it and continue on my own\" + 0.050*\"Recheck guideline parameters\\r\\r\\nAsk peers for advice\\r\\r\\nEscalate to senior clinician \\r\\r\\n\" + 0.050*\"get help from a senior doctor or colleague\" + 0.050*\"I would seek other opinions from my colleagues or experts in the field. I would be happy to override the AI recommendation if we see fit.\" + 0.050*\"Patient management is multifaceted and usually takes into consideration features from the history, examination and investigation findings to decide if treatment is indicated in a patient. I am less likely to be inflexible in my assessment  and decision to treat a patient than an AI.\"'),\n",
       " (3,\n",
       "  '0.550*\"Patient management is multifaceted and usually takes into consideration features from the history, examination and investigation findings to decide if treatment is indicated in a patient. I am less likely to be inflexible in my assessment  and decision to treat a patient than an AI.\" + 0.050*\"I would prescribe based on my clinical training and standard guidelines/evidence\" + 0.050*\"I will check national and local guidelines before follow AI recommendations or my own decision.\\r\\r\\n\" + 0.050*\"get help from a senior doctor or colleague\" + 0.050*\"Consult with another health care specialist with regards to the decision\" + 0.050*\"I would trust my clinical judgment and  give patient choice about  both options\" + 0.050*\"It is a supportive system and not an alternative to the human. So I would override it and continue on my own\" + 0.050*\"I would choose the treatment option based on the national/local guidelines and justify these with reasoning.\" + 0.050*\"Recheck guideline parameters\\r\\r\\nAsk peers for advice\\r\\r\\nEscalate to senior clinician \\r\\r\\n\" + 0.050*\"I would seek other opinions from my colleagues or experts in the field. I would be happy to override the AI recommendation if we see fit.\"'),\n",
       " (4,\n",
       "  '0.550*\"I would choose the treatment option based on the national/local guidelines and justify these with reasoning.\" + 0.050*\"I will check national and local guidelines before follow AI recommendations or my own decision.\\r\\r\\n\" + 0.050*\"I would trust my clinical judgment and  give patient choice about  both options\" + 0.050*\"I would prescribe based on my clinical training and standard guidelines/evidence\" + 0.050*\"Patient management is multifaceted and usually takes into consideration features from the history, examination and investigation findings to decide if treatment is indicated in a patient. I am less likely to be inflexible in my assessment  and decision to treat a patient than an AI.\" + 0.050*\"get help from a senior doctor or colleague\" + 0.050*\"It is a supportive system and not an alternative to the human. So I would override it and continue on my own\" + 0.050*\"Recheck guideline parameters\\r\\r\\nAsk peers for advice\\r\\r\\nEscalate to senior clinician \\r\\r\\n\" + 0.050*\"I would seek other opinions from my colleagues or experts in the field. I would be happy to override the AI recommendation if we see fit.\" + 0.050*\"Consult with another health care specialist with regards to the decision\"'),\n",
       " (5,\n",
       "  '0.367*\"I would seek other opinions from my colleagues or experts in the field. I would be happy to override the AI recommendation if we see fit.\" + 0.367*\"get help from a senior doctor or colleague\" + 0.033*\"Consult with another health care specialist with regards to the decision\" + 0.033*\"I would prescribe based on my clinical training and standard guidelines/evidence\" + 0.033*\"Recheck guideline parameters\\r\\r\\nAsk peers for advice\\r\\r\\nEscalate to senior clinician \\r\\r\\n\" + 0.033*\"I would choose the treatment option based on the national/local guidelines and justify these with reasoning.\" + 0.033*\"It is a supportive system and not an alternative to the human. So I would override it and continue on my own\" + 0.033*\"I will check national and local guidelines before follow AI recommendations or my own decision.\\r\\r\\n\" + 0.033*\"I would trust my clinical judgment and  give patient choice about  both options\" + 0.033*\"Patient management is multifaceted and usually takes into consideration features from the history, examination and investigation findings to decide if treatment is indicated in a patient. I am less likely to be inflexible in my assessment  and decision to treat a patient than an AI.\"'),\n",
       " (6,\n",
       "  '0.367*\"I would trust my clinical judgment and  give patient choice about  both options\" + 0.367*\"I would prescribe based on my clinical training and standard guidelines/evidence\" + 0.033*\"I will check national and local guidelines before follow AI recommendations or my own decision.\\r\\r\\n\" + 0.033*\"get help from a senior doctor or colleague\" + 0.033*\"I would choose the treatment option based on the national/local guidelines and justify these with reasoning.\" + 0.033*\"It is a supportive system and not an alternative to the human. So I would override it and continue on my own\" + 0.033*\"Consult with another health care specialist with regards to the decision\" + 0.033*\"Patient management is multifaceted and usually takes into consideration features from the history, examination and investigation findings to decide if treatment is indicated in a patient. I am less likely to be inflexible in my assessment  and decision to treat a patient than an AI.\" + 0.033*\"I would seek other opinions from my colleagues or experts in the field. I would be happy to override the AI recommendation if we see fit.\" + 0.033*\"Recheck guideline parameters\\r\\r\\nAsk peers for advice\\r\\r\\nEscalate to senior clinician \\r\\r\\n\"'),\n",
       " (7,\n",
       "  '0.550*\"Consult with another health care specialist with regards to the decision\" + 0.050*\"It is a supportive system and not an alternative to the human. So I would override it and continue on my own\" + 0.050*\"I would choose the treatment option based on the national/local guidelines and justify these with reasoning.\" + 0.050*\"I would trust my clinical judgment and  give patient choice about  both options\" + 0.050*\"Patient management is multifaceted and usually takes into consideration features from the history, examination and investigation findings to decide if treatment is indicated in a patient. I am less likely to be inflexible in my assessment  and decision to treat a patient than an AI.\" + 0.050*\"Recheck guideline parameters\\r\\r\\nAsk peers for advice\\r\\r\\nEscalate to senior clinician \\r\\r\\n\" + 0.050*\"get help from a senior doctor or colleague\" + 0.050*\"I would prescribe based on my clinical training and standard guidelines/evidence\" + 0.050*\"I will check national and local guidelines before follow AI recommendations or my own decision.\\r\\r\\n\" + 0.050*\"I would seek other opinions from my colleagues or experts in the field. I would be happy to override the AI recommendation if we see fit.\"'),\n",
       " (8,\n",
       "  '0.550*\"Recheck guideline parameters\\r\\r\\nAsk peers for advice\\r\\r\\nEscalate to senior clinician \\r\\r\\n\" + 0.050*\"I will check national and local guidelines before follow AI recommendations or my own decision.\\r\\r\\n\" + 0.050*\"get help from a senior doctor or colleague\" + 0.050*\"I would seek other opinions from my colleagues or experts in the field. I would be happy to override the AI recommendation if we see fit.\" + 0.050*\"I would trust my clinical judgment and  give patient choice about  both options\" + 0.050*\"Consult with another health care specialist with regards to the decision\" + 0.050*\"It is a supportive system and not an alternative to the human. So I would override it and continue on my own\" + 0.050*\"Patient management is multifaceted and usually takes into consideration features from the history, examination and investigation findings to decide if treatment is indicated in a patient. I am less likely to be inflexible in my assessment  and decision to treat a patient than an AI.\" + 0.050*\"I would choose the treatment option based on the national/local guidelines and justify these with reasoning.\" + 0.050*\"I would prescribe based on my clinical training and standard guidelines/evidence\"'),\n",
       " (9,\n",
       "  '0.100*\"I would prescribe based on my clinical training and standard guidelines/evidence\" + 0.100*\"Patient management is multifaceted and usually takes into consideration features from the history, examination and investigation findings to decide if treatment is indicated in a patient. I am less likely to be inflexible in my assessment  and decision to treat a patient than an AI.\" + 0.100*\"I will check national and local guidelines before follow AI recommendations or my own decision.\\r\\r\\n\" + 0.100*\"It is a supportive system and not an alternative to the human. So I would override it and continue on my own\" + 0.100*\"get help from a senior doctor or colleague\" + 0.100*\"I would choose the treatment option based on the national/local guidelines and justify these with reasoning.\" + 0.100*\"Recheck guideline parameters\\r\\r\\nAsk peers for advice\\r\\r\\nEscalate to senior clinician \\r\\r\\n\" + 0.100*\"Consult with another health care specialist with regards to the decision\" + 0.100*\"I would trust my clinical judgment and  give patient choice about  both options\" + 0.100*\"I would seek other opinions from my colleagues or experts in the field. I would be happy to override the AI recommendation if we see fit.\"')]"
      ]
     },
     "execution_count": 14,
     "metadata": {},
     "output_type": "execute_result"
    }
   ],
   "source": [
    "#Read data and preprocess it\n",
    "df = pd.read_csv(\"../Data/cleaned_analytic_file_for_viz_290224.csv\")\n",
    "## Seperate responses who mention not_know to make processing faster\n",
    "question_scenario_one = \"You are using an AI clinical decision-support system which recommends \\\n",
    "treatment options for individual patients. You disagree with the recommendation that is given by \\\n",
    "the system. How would you proceed?\"\n",
    "\n",
    "not_know_lists = [\"dont know\",\"don't know\", \"not know\", \"not sure\", \"don’t know\"]\n",
    "df = df.dropna(subset=['scenario_one'])\n",
    "df['not_know'] = df['scenario_one'].apply(lambda x: 1 if any(ss.lower() in x.lower() for ss in not_know_lists) else 0)\n",
    "df_filtered = df[df['not_know']== 0]\n",
    "df_filtered.index = range(len(df_filtered)) #reindex the new list to start from 0-len. \n",
    "\n",
    "### Using Gensim to extract topics from each response. "
   ]
  }
 ],
 "metadata": {
  "kernelspec": {
   "display_name": "Python 3",
   "language": "python",
   "name": "python3"
  },
  "language_info": {
   "codemirror_mode": {
    "name": "ipython",
    "version": 3
   },
   "file_extension": ".py",
   "mimetype": "text/x-python",
   "name": "python",
   "nbconvert_exporter": "python",
   "pygments_lexer": "ipython3",
   "version": "3.11.5"
  },
  "orig_nbformat": 4
 },
 "nbformat": 4,
 "nbformat_minor": 2
}
